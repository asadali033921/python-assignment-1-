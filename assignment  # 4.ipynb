{
 "cells": [
  {
   "cell_type": "markdown",
   "metadata": {},
   "source": [
    "# 1. Use a dictionary to store information about a person you know. Store their first name, last name, age,and the city in which they live. You should have keys such as first_name, last_name, age, and city. Print each piece of information stored in your dictionary. Add a new key value pair about qualification then  update the qualification value to high academic level then delete it."
   ]
  },
  {
   "cell_type": "code",
   "execution_count": 2,
   "metadata": {},
   "outputs": [],
   "source": [
    "person = {\n",
    "    'first_name': 'Asad',\n",
    "    'Last_name': 'Ali',\n",
    "    'age': 25,\n",
    "    'City':'Karachi',\n",
    "}\n",
    "person[\"Qualification\"] = \"inter\""
   ]
  },
  {
   "cell_type": "code",
   "execution_count": 3,
   "metadata": {},
   "outputs": [
    {
     "name": "stdout",
     "output_type": "stream",
     "text": [
      "{'first_name': 'Asad', 'Last_name': 'Ali', 'age': 25, 'City': 'Karachi', 'Qualification': 'inter'}\n"
     ]
    }
   ],
   "source": [
    "print(person)"
   ]
  },
  {
   "cell_type": "code",
   "execution_count": 4,
   "metadata": {},
   "outputs": [],
   "source": [
    "person[\"Qualification\"] = \"graduate\""
   ]
  },
  {
   "cell_type": "code",
   "execution_count": 5,
   "metadata": {},
   "outputs": [
    {
     "name": "stdout",
     "output_type": "stream",
     "text": [
      "{'first_name': 'Asad', 'Last_name': 'Ali', 'age': 25, 'City': 'Karachi', 'Qualification': 'graduate'}\n"
     ]
    }
   ],
   "source": [
    "print(person)"
   ]
  },
  {
   "cell_type": "markdown",
   "metadata": {},
   "source": [
    "# 2.Make a dictionary called cities. Use the names of three cities as keys in your dictionary. Create adictionary of information about each city and include the country that the city is in, its approximate population, and one fact about that city. The keys for each city’s dictionary should be something like country, population, and fact. Print the name of each city and all of the information you have stored about it."
   ]
  },
  {
   "cell_type": "code",
   "execution_count": 9,
   "metadata": {},
   "outputs": [
    {
     "name": "stdout",
     "output_type": "stream",
     "text": [
      "\n",
      "Karachi is in Pakistan.\n",
      "  It has a population of about 615808.\n",
      "\n",
      "Lahore is in Pakistan.\n",
      "  It has a population of about 876000.\n",
      "\n",
      "Quetta is in Pakistan.\n",
      "  It has a population of about 100325.\n"
     ]
    }
   ],
   "source": [
    "cities = {\n",
    "    'karachi': {\n",
    "        'country': 'Pakistan',\n",
    "        'population': 615808,\n",
    "        },\n",
    "    'Lahore': {\n",
    "        'country': 'Pakistan',\n",
    "        'population': 876000,\n",
    "        },\n",
    "    'Quetta': {\n",
    "        'country': 'Pakistan',\n",
    "        'population': 100325,\n",
    "        }\n",
    "    }\n",
    "\n",
    "for city, city_info in cities.items():\n",
    "    country = city_info['country'].title()\n",
    "    population = city_info['population']\n",
    "    \n",
    "    print(\"\\n\" + city.title() + \" is in \" + country + \".\")\n",
    "    print(\"  It has a population of about \" + str(population) + \".\")"
   ]
  },
  {
   "cell_type": "markdown",
   "metadata": {},
   "source": [
    "# 3 .A movie theater charges different ticket prices depending on a person’s age. If a person is under the age of 3, the ticket is free; if they are between 3 and 12, the ticket is 10; and if they are over age 12, the ticket is 15. Write a loop in which you ask users their age, and then tell them the cost of their movie ticket."
   ]
  },
  {
   "cell_type": "code",
   "execution_count": 70,
   "metadata": {},
   "outputs": [
    {
     "name": "stdout",
     "output_type": "stream",
     "text": [
      "your age is  14\n",
      "the movie ticket is $15\n"
     ]
    }
   ],
   "source": [
    "age = int(input(\"your age is  \"))\n",
    "\n",
    "if(age<=3):\n",
    "    print(\"the  movie ticket is free\")\n",
    "elif(age<=12):\n",
    "    print(\"the movie ticket is $10\")\n",
    "elif(age>=12):\n",
    "    print(\"the movie ticket is $15\")"
   ]
  },
  {
   "cell_type": "markdown",
   "metadata": {},
   "source": [
    "# 4. Write a function called favorite_book() that accepts one parameter, title. The function should print a message, such as One of my favorite books is Alice in Wonderland. Call the function, making sure to include a book title as an argument in the function call."
   ]
  },
  {
   "cell_type": "code",
   "execution_count": 79,
   "metadata": {},
   "outputs": [
    {
     "name": "stdout",
     "output_type": "stream",
     "text": [
      "Alice in wonderland is one of my favorite books.\n"
     ]
    }
   ],
   "source": [
    "def favorite_book(title):\n",
    "    print(title +\" is one of my favorite books.\")\n",
    "favorite_book('Alice in wonderland')"
   ]
  },
  {
   "cell_type": "markdown",
   "metadata": {},
   "source": [
    "# 5. Write a program which randomly generate a number between 1 to 30 and ask the user in input field to guess the correct number. Give three chances to user guess the number and also give hint to user if hidden number is greater or smaller than the number he given to input field."
   ]
  },
  {
   "cell_type": "code",
   "execution_count": null,
   "metadata": {},
   "outputs": [
    {
     "name": "stdout",
     "output_type": "stream",
     "text": [
      "Guess a number between 1 and 30\n",
      "25\n",
      "Try Lower\n",
      "Guess a number between 1 and 30\n"
     ]
    }
   ],
   "source": [
    "import random\n",
    "num = random.randint(1, 30)\n",
    "while True:\n",
    "    print('Guess a number between 1 and 30')\n",
    "    guess = input()\n",
    "    i = int(guess)\n",
    "    if i == num:\n",
    "        print('You won!!!')\n",
    "        break\n",
    "    elif i < num:\n",
    "               print('Try Higher')\n",
    "    elif i > num:\n",
    "               print('Try Lower')\n",
    "print('if you gussed less than 3 times you won')"
   ]
  },
  {
   "cell_type": "code",
   "execution_count": null,
   "metadata": {},
   "outputs": [],
   "source": []
  }
 ],
 "metadata": {
  "kernelspec": {
   "display_name": "Python 3",
   "language": "python",
   "name": "python3"
  },
  "language_info": {
   "codemirror_mode": {
    "name": "ipython",
    "version": 3
   },
   "file_extension": ".py",
   "mimetype": "text/x-python",
   "name": "python",
   "nbconvert_exporter": "python",
   "pygments_lexer": "ipython3",
   "version": "3.7.3"
  }
 },
 "nbformat": 4,
 "nbformat_minor": 2
}
