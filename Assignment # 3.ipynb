{
 "cells": [
  {
   "cell_type": "markdown",
   "metadata": {},
   "source": [
    "# 1. Make a calculator using Python with addition , subtraction , multiplication , division and power."
   ]
  },
  {
   "cell_type": "code",
   "execution_count": 4,
   "metadata": {},
   "outputs": [
    {
     "name": "stdout",
     "output_type": "stream",
     "text": [
      "Enter First value4\n",
      "Enter second value5\n",
      "Enter Operator+\n",
      "9 answer\n"
     ]
    }
   ],
   "source": [
    "cal1 = int(input('Enter First value'))\n",
    "cal2 = int(input('Enter second value'))\n",
    "operator = input('Enter Operator')\n",
    "\n",
    "if operator == '+':\n",
    "    cal = cal1 + cal2\n",
    "    print(cal,'answer')\n",
    "elif operator == '-':\n",
    "    cal = cal1 - cal2\n",
    "    print(cal,'answer')\n",
    "elif operator == '*':\n",
    "    cal = cal1 * cal2\n",
    "    print(cal,'answer')\n",
    "elif operator == '/':\n",
    "    cal = cal1 / cal2\n",
    "    print(cal,'answer')\n",
    "else:\n",
    "    print(\"Enter correct operator\")"
   ]
  },
  {
   "cell_type": "markdown",
   "metadata": {},
   "source": [
    "# 2. Write a program to check if there is any numeric value in list using for loop?"
   ]
  },
  {
   "cell_type": "code",
   "execution_count": 3,
   "metadata": {},
   "outputs": [
    {
     "name": "stdout",
     "output_type": "stream",
     "text": [
      "Numeric value found : 5\n"
     ]
    }
   ],
   "source": [
    "list = [\"karachi\",5,\"3\",\"lahore\"]\n",
    "\n",
    "for value in list:\n",
    "    if type(value) == int:\n",
    "        print(f\"Numeric value found : {value}\")\n",
    "        break"
   ]
  },
  {
   "cell_type": "markdown",
   "metadata": {},
   "source": [
    "# 3. Write a Python script to add a key to a dictionary?"
   ]
  },
  {
   "cell_type": "code",
   "execution_count": 4,
   "metadata": {},
   "outputs": [],
   "source": [
    "list = [\"Karachi\",\"Lahore\"]\n"
   ]
  },
  {
   "cell_type": "code",
   "execution_count": 7,
   "metadata": {},
   "outputs": [
    {
     "name": "stdout",
     "output_type": "stream",
     "text": [
      "{'First name': 'asad', 'Last name': 'ali', 'Address': 'Karachi'}\n"
     ]
    }
   ],
   "source": [
    "cust1 = {\n",
    "    \"First name\" : \"asad\",\n",
    "    \"Last name\" : \"ali\",\n",
    "    \"Address\" :\"4703 Lahore st.\"\n",
    "}\n",
    "cust1[\"Address\"] = 'Karachi'\n",
    "print(cust1)"
   ]
  },
  {
   "cell_type": "markdown",
   "metadata": {},
   "source": [
    "# 4. Write a Python program to sum all the numeric items in a dictionary"
   ]
  },
  {
   "cell_type": "code",
   "execution_count": 16,
   "metadata": {},
   "outputs": [
    {
     "name": "stdout",
     "output_type": "stream",
     "text": [
      "Sum = 106\n"
     ]
    }
   ],
   "source": [
    "result = 0\n",
    "dic = {1: 2 ,\n",
    "           2: \"asad\", \n",
    "           3: 4, \n",
    "           4:\"Not numerical\",\n",
    "           5: 100}\n",
    "\n",
    "for value in dic.values():\n",
    "    if type(value) == int:\n",
    "        result = result + value        \n",
    "        \n",
    "print(f\"Sum = {result}\")"
   ]
  },
  {
   "cell_type": "markdown",
   "metadata": {},
   "source": [
    "# 5. Write a program to identify duplicate values from list?"
   ]
  },
  {
   "cell_type": "code",
   "execution_count": 38,
   "metadata": {},
   "outputs": [
    {
     "name": "stdout",
     "output_type": "stream",
     "text": [
      "Duplicated asad\n",
      "Duplicated asad\n",
      "Duplicated 1\n",
      "Duplicated 1\n",
      "Duplicated 0.4\n",
      "Duplicated 0.4\n",
      "Duplicated 3\n",
      "Duplicated 3\n"
     ]
    }
   ],
   "source": [
    "the_list = [\"asad\", \"asad\", 1, 1, 0.4, 0.4, 3, 3]\n",
    "for value in the_list:\n",
    "    if  the_list.count(value) > 1:\n",
    "        print(f\"Duplicated {value}\")"
   ]
  },
  {
   "cell_type": "markdown",
   "metadata": {},
   "source": [
    "# 6. Write a Python script to check if a given key already exists in a dictionary"
   ]
  },
  {
   "cell_type": "code",
   "execution_count": 39,
   "metadata": {},
   "outputs": [
    {
     "name": "stdout",
     "output_type": "stream",
     "text": [
      "Key is present in the dictionary\n",
      "Key is not present in the dictionary\n"
     ]
    }
   ],
   "source": [
    "d = {1: 10, 2: 20, 3: 30, 4: 40, 5: 50, 6: 60}\n",
    "def is_key_present(x):\n",
    "  if x in d:\n",
    "      print('Key is present in the dictionary')\n",
    "  else:\n",
    "      print('Key is not present in the dictionary')\n",
    "is_key_present(5)\n",
    "is_key_present(9)"
   ]
  },
  {
   "cell_type": "code",
   "execution_count": null,
   "metadata": {},
   "outputs": [],
   "source": []
  }
 ],
 "metadata": {
  "kernelspec": {
   "display_name": "Python 3",
   "language": "python",
   "name": "python3"
  },
  "language_info": {
   "codemirror_mode": {
    "name": "ipython",
    "version": 3
   },
   "file_extension": ".py",
   "mimetype": "text/x-python",
   "name": "python",
   "nbconvert_exporter": "python",
   "pygments_lexer": "ipython3",
   "version": "3.7.3"
  }
 },
 "nbformat": 4,
 "nbformat_minor": 2
}
